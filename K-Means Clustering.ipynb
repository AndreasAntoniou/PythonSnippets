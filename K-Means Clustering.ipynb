{
 "cells": [
  {
   "cell_type": "code",
   "execution_count": 1,
   "metadata": {},
   "outputs": [
    {
     "data": {
      "text/plain": [
       "(         variable1    variable2\n",
       " count  1097.000000  1097.000000\n",
       " mean      0.490305    -0.623752\n",
       " std       0.905663     0.475694\n",
       " min      -1.576448    -1.122791\n",
       " 25%      -0.156821    -0.951551\n",
       " 50%       0.427732    -0.844525\n",
       " 75%       1.179299    -0.352208\n",
       " max       2.891203     1.477928,         variable1   variable2\n",
       " count  712.000000  712.000000\n",
       " mean    -0.755428    0.961034\n",
       " std      0.580989    0.818726\n",
       " min     -1.826971   -0.908740\n",
       " 25%     -1.158911    0.354160\n",
       " 50%     -0.908388    0.867883\n",
       " 75%     -0.407343    1.488630\n",
       " max      2.014374    5.512788)"
      ]
     },
     "execution_count": 1,
     "metadata": {},
     "output_type": "execute_result"
    }
   ],
   "source": [
    "import pandas as pd\n",
    "from scipy import stats\n",
    "from sklearn.cluster import KMeans\n",
    "\n",
    "#Download file from train and validaiton datasets from https://gofile.io/?c=UT86BF \n",
    "clustrain = pd.read_csv(\"C:\\MyDataSets\\Datasets\\ClustTraining.csv\")\n",
    "\n",
    "#Select data. Change variable1 & variable 2 to the desired predictor variables. Insert more if needed.\n",
    "X = clustrain[['variable1', 'variable2']]\n",
    "\n",
    "#Standardize the data, using z-score\n",
    "Xz = pd.DataFrame(stats.zscore(X), columns=['variable1', 'variable2'])\n",
    "\n",
    "#Apply the algorithm, save the results, access each cluster and view summary statistics\n",
    "kmeans01 = KMeans(n_clusters = 2).fit(Xz)\n",
    "cluster = kmeans01.labels_\n",
    "\n",
    "Cluster1 = Xz.loc[cluster == 0]\n",
    "Cluster2 = Xz.loc[cluster == 1]\n",
    "\n",
    "Cluster1.describe(), Cluster2.describe()"
   ]
  },
  {
   "cell_type": "code",
   "execution_count": 2,
   "metadata": {},
   "outputs": [
    {
     "data": {
      "text/plain": [
       "(         variable1    variable2\n",
       " count  1122.000000  1122.000000\n",
       " mean      0.456397    -0.605782\n",
       " std       0.903287     0.459740\n",
       " min      -1.675754    -1.089453\n",
       " 25%      -0.218729    -0.945241\n",
       " 50%       0.368129    -0.821632\n",
       " 75%       1.157351    -0.285988\n",
       " max       2.776268     1.423949,         variable1   variable2\n",
       " count  638.000000  638.000000\n",
       " mean    -0.802630    1.065341\n",
       " std      0.561207    0.779670\n",
       " min     -2.080483   -1.037949\n",
       " 25%     -1.190079    0.396441\n",
       " 50%     -0.947241    1.032518\n",
       " 75%     -0.542512    1.583612\n",
       " max      1.562080    3.298700)"
      ]
     },
     "execution_count": 2,
     "metadata": {},
     "output_type": "execute_result"
    }
   ],
   "source": [
    "#validating the data\n",
    "clustest = pd.read_csv(\"C:\\MyDataSets\\Datasets\\ClustTest.csv\")\n",
    "X_test = clustest[['variable1', 'variable2']]\n",
    "Xz_test = pd.DataFrame(stats.zscore(X_test),columns=['variable1', 'variable2'])\n",
    "\n",
    "#testing kmeans clustering\n",
    "\n",
    "kmeans_test = KMeans(n_clusters = 2).fit(Xz_test)\n",
    "cluster_test = kmeans_test.labels_ #Cluster membership\n",
    "Cluster1_test = Xz_test.loc[cluster_test == 0]\n",
    "Cluster2_test = Xz_test.loc[cluster_test == 1]\n",
    "Cluster1_test.describe(), Cluster2_test.describe()"
   ]
  },
  {
   "cell_type": "code",
   "execution_count": null,
   "metadata": {},
   "outputs": [],
   "source": []
  }
 ],
 "metadata": {
  "kernelspec": {
   "display_name": "Python 3",
   "language": "python",
   "name": "python3"
  },
  "language_info": {
   "codemirror_mode": {
    "name": "ipython",
    "version": 3
   },
   "file_extension": ".py",
   "mimetype": "text/x-python",
   "name": "python",
   "nbconvert_exporter": "python",
   "pygments_lexer": "ipython3",
   "version": "3.7.4"
  }
 },
 "nbformat": 4,
 "nbformat_minor": 2
}
