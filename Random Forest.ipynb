{
 "cells": [
  {
   "cell_type": "code",
   "execution_count": 28,
   "metadata": {},
   "outputs": [
    {
     "name": "stdout",
     "output_type": "stream",
     "text": [
      "              precision    recall  f1-score   support\n",
      "\n",
      "       Value       0.82      1.00      0.90     14271\n",
      "      Value2       0.98      0.30      0.46      4490\n",
      "\n",
      "    accuracy                           0.83     18761\n",
      "   macro avg       0.90      0.65      0.68     18761\n",
      "weighted avg       0.86      0.83      0.79     18761\n",
      "\n"
     ]
    }
   ],
   "source": [
    "import numpy as np\n",
    "import pandas as pd\n",
    "from sklearn.tree import export_graphviz \n",
    "from sklearn.ensemble import RandomForestClassifier\n",
    "import statsmodels.tools.tools as stattools\n",
    "from sklearn.metrics import classification_report\n",
    "\n",
    "#Please download the dataset through: https://gofile.io/?c=EDn86R (Public file sharing service)\n",
    "MyDataset = pd.read_csv(\"C:\\MyDataSets\\Datasets\\TreeDataset.csv\")\n",
    "Y = MyDataset[['ColumnY']]\n",
    "\n",
    "#Converting any categorical variables to dummy variables required by sklearn CART function\n",
    "#This array will develop two metrix. Consequently, we need to separate them using the stattools library and naming two variables\n",
    "variable_np = np.array(MyDataset['Columnvar'])\n",
    "(variable_cat, variable_cat_dic) = stattools.categorical(variable_np, drop = True, dictnames = True)\n",
    "\n",
    "#Merge the dummy variables to the dataset and develop the variables\n",
    "variable_cat_df = pd.DataFrame(variable_cat)\n",
    "X = pd.concat((MyDataset[['column2_category']], variable_cat_df), axis=1)\n",
    "\n",
    "#Names of the categories of X (will help in visualizing a category later on)\n",
    "X_names = [\"column2_category\", \"column2_category2\", \"column2_category3\", \"column2_category4\", \"column2_category5\", \"column2_category6\"]\n",
    "\n",
    "\n",
    "#Binary values for the F variable\n",
    "Y_names = [\"Value\", \"Value2\"]\n",
    "\n",
    "#np.ravel required to transform a response variable to a formatted one-dimensional array\n",
    "rafor = np.ravel (Y)\n",
    "rafor = RandomForestClassifier(n_estimators = 100, criterion=\"gini\").fit(X,rafor)\n",
    "\n",
    "#Predict number of classifications and export them in a CSV file\n",
    "predicted = rafor.predict(X)\n",
    "predicteddf = pd.DataFrame(predicted)\n",
    "predicteddf.to_csv(\"C:\\MyDataSets\\Datasets\\RandomForestPrediction.csv\")\n",
    "\n",
    "\n",
    "#printing the confusion matrix (report) to determine model value\n",
    "reportrandfor = classification_report(Y, predicted)\n",
    "print(reportrandfor)\n",
    "\n",
    "#F1 score = 1 (Harmony), F>1 (recall higher than precision), F<1 (precision higher than recall), F=2 (recall = precision*2) "
   ]
  },
  {
   "cell_type": "code",
   "execution_count": null,
   "metadata": {},
   "outputs": [],
   "source": []
  }
 ],
 "metadata": {
  "kernelspec": {
   "display_name": "Python 3",
   "language": "python",
   "name": "python3"
  },
  "language_info": {
   "codemirror_mode": {
    "name": "ipython",
    "version": 3
   },
   "file_extension": ".py",
   "mimetype": "text/x-python",
   "name": "python",
   "nbconvert_exporter": "python",
   "pygments_lexer": "ipython3",
   "version": "3.7.4"
  }
 },
 "nbformat": 4,
 "nbformat_minor": 2
}
